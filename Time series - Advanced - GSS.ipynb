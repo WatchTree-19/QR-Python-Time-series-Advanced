{
  "cells": [
    {
      "cell_type": "code",
      "execution_count": 1,
      "id": "2ce6eb25-8dbd-4e7c-ad2c-6848a698900c",
      "metadata": {},
      "outputs": [],
      "source": [
        "import pandas as pd\n",
        "import matplotlib.pyplot as plt\n",
        "import numpy as np\n",
        "import seaborn as sns\n",
        "\n",
        "import statsmodels.api as sm\n",
        "import statsmodels.formula.api as smf\n",
        "from scipy import stats\n",
        "import os"
      ]
    },
    {
      "cell_type": "code",
      "execution_count": 2,
      "id": "d9d905f4-b82d-447d-b497-28b266960b6e",
      "metadata": {},
      "outputs": [
        {
          "name": "stdout",
          "output_type": "stream",
          "text": [
            "Requirement already satisfied: arch in c:\\users\\sande\\anaconda3\\lib\\site-packages (5.3.1)\n",
            "Requirement already satisfied: numpy>=1.17 in c:\\users\\sande\\anaconda3\\lib\\site-packages (from arch) (1.21.5)\n",
            "Requirement already satisfied: property-cached>=1.6.4 in c:\\users\\sande\\anaconda3\\lib\\site-packages (from arch) (1.6.4)\n",
            "Requirement already satisfied: scipy>=1.3 in c:\\users\\sande\\anaconda3\\lib\\site-packages (from arch) (1.7.3)\n",
            "Requirement already satisfied: pandas>=1.0 in c:\\users\\sande\\anaconda3\\lib\\site-packages (from arch) (1.4.2)\n",
            "Requirement already satisfied: statsmodels>=0.11 in c:\\users\\sande\\anaconda3\\lib\\site-packages (from arch) (0.13.2)\n",
            "Requirement already satisfied: python-dateutil>=2.8.1 in c:\\users\\sande\\anaconda3\\lib\\site-packages (from pandas>=1.0->arch) (2.8.2)\n",
            "Requirement already satisfied: pytz>=2020.1 in c:\\users\\sande\\anaconda3\\lib\\site-packages (from pandas>=1.0->arch) (2021.3)\n",
            "Requirement already satisfied: six>=1.5 in c:\\users\\sande\\anaconda3\\lib\\site-packages (from python-dateutil>=2.8.1->pandas>=1.0->arch) (1.16.0)\n",
            "Requirement already satisfied: patsy>=0.5.2 in c:\\users\\sande\\anaconda3\\lib\\site-packages (from statsmodels>=0.11->arch) (0.5.2)\n",
            "Requirement already satisfied: packaging>=21.3 in c:\\users\\sande\\anaconda3\\lib\\site-packages (from statsmodels>=0.11->arch) (21.3)\n",
            "Requirement already satisfied: pyparsing!=3.0.5,>=2.0.2 in c:\\users\\sande\\anaconda3\\lib\\site-packages (from packaging>=21.3->statsmodels>=0.11->arch) (3.0.4)\n",
            "Note: you may need to restart the kernel to use updated packages.\n"
          ]
        }
      ],
      "source": [
        "pip install arch"
      ]
    },
    {
      "cell_type": "code",
      "execution_count": 3,
      "id": "9af1245d-9bf3-4ae0-bc3a-3f6ee14a0a30",
      "metadata": {},
      "outputs": [],
      "source": [
        "os.chdir(r'G:\\My Drive\\Master\\Documents\\Academia\\Columbia-Postgraduate\\QMSS\\Res_unit_1\\Time series\\Assignments\\Lab 3')\n",
        "gss = pd.read_csv(\"trends-gss.csv\")\n",
        "variables = [\"year\", \"sex\", \"age\", \"degree\", \"madeg\", \"race\", \"partyid\", \"realinc\", \"confinan\"]\n",
        "sub = gss[variables].copy()"
      ]
    },
    {
      "cell_type": "code",
      "execution_count": 4,
      "id": "353bc2ce-6cfc-4c17-bee3-5362cafd5a59",
      "metadata": {},
      "outputs": [],
      "source": [
        "sub['nconfinan'] = np.where(sub['confinan'] == 1, 1, 0)\n",
        "sub['baplus'] = np.where(sub['degree'] >= 3, 1, 0)\n",
        "sub['mbaplus'] = np.where(sub['madeg'] >= 3, 1, 0)\n",
        "sub['nrace'] = np.where(sub['race'] == 1, 1, 0)\n",
        "sub['income'] = sub['realinc']"
      ]
    },
    {
      "cell_type": "code",
      "execution_count": 5,
      "id": "1231d3ec-aae7-452a-a435-cbf19ce98996",
      "metadata": {},
      "outputs": [],
      "source": [
        "by_year = sub.groupby('year', as_index = False).agg('mean').replace({0.000000: np.nan})"
      ]
    },
    {
      "cell_type": "code",
      "execution_count": 6,
      "id": "432b5e80-f682-491f-881e-b3e0931a5841",
      "metadata": {},
      "outputs": [],
      "source": [
        "add_years_df = pd.DataFrame(data = pd.Series([1979, 1981, 1992, 1995] + list(np.arange(1997, 2009, 2))),\n",
        "                            columns = ['year'])\n",
        "                            \n",
        "by_year = pd.concat([by_year, add_years_df], sort = False, ignore_index = True)"
      ]
    },
    {
      "cell_type": "code",
      "execution_count": 7,
      "id": "af22fc51-bd6a-46ab-a9fb-5d73f17bbe2e",
      "metadata": {},
      "outputs": [],
      "source": [
        "by_year = by_year.sort_values('year')\n",
        "by_year = by_year.set_index(\"year\", drop = False)\n",
        "\n",
        "# Interpolate missing values of time series linearly\n",
        "by_year_ts = by_year.interpolate(method = 'linear')"
      ]
    },
    {
      "cell_type": "code",
      "execution_count": 8,
      "id": "241fe1ae-27e8-4e99-9ca9-9d8b11878ac2",
      "metadata": {},
      "outputs": [],
      "source": [
        "by_year_ts['confinan_pct'] = by_year_ts['nconfinan']*100\n",
        "by_year_ts['ba_pct'] = by_year_ts['baplus']*100\n",
        "by_year_ts['mba_pct'] = by_year_ts['mbaplus']*100"
      ]
    },
    {
      "cell_type": "code",
      "execution_count": 9,
      "id": "d854236b-3683-413e-90b2-317159880719",
      "metadata": {},
      "outputs": [
        {
          "data": {
            "text/html": [
              "<div>\n",
              "<style scoped>\n",
              "    .dataframe tbody tr th:only-of-type {\n",
              "        vertical-align: middle;\n",
              "    }\n",
              "\n",
              "    .dataframe tbody tr th {\n",
              "        vertical-align: top;\n",
              "    }\n",
              "\n",
              "    .dataframe thead th {\n",
              "        text-align: right;\n",
              "    }\n",
              "</style>\n",
              "<table border=\"1\" class=\"dataframe\">\n",
              "  <thead>\n",
              "    <tr style=\"text-align: right;\">\n",
              "      <th></th>\n",
              "      <th>confinan_pct</th>\n",
              "      <th>ba_pct</th>\n",
              "      <th>mba_pct</th>\n",
              "      <th>age</th>\n",
              "      <th>race</th>\n",
              "      <th>income</th>\n",
              "      <th>year</th>\n",
              "    </tr>\n",
              "  </thead>\n",
              "  <tbody>\n",
              "    <tr>\n",
              "      <th>confinan_pct</th>\n",
              "      <td>1.000000</td>\n",
              "      <td>-0.840768</td>\n",
              "      <td>-0.769148</td>\n",
              "      <td>-0.680831</td>\n",
              "      <td>-0.603893</td>\n",
              "      <td>-0.478022</td>\n",
              "      <td>-0.823630</td>\n",
              "    </tr>\n",
              "    <tr>\n",
              "      <th>ba_pct</th>\n",
              "      <td>-0.840768</td>\n",
              "      <td>1.000000</td>\n",
              "      <td>0.953986</td>\n",
              "      <td>0.812950</td>\n",
              "      <td>0.766796</td>\n",
              "      <td>0.676960</td>\n",
              "      <td>0.977415</td>\n",
              "    </tr>\n",
              "    <tr>\n",
              "      <th>mba_pct</th>\n",
              "      <td>-0.769148</td>\n",
              "      <td>0.953986</td>\n",
              "      <td>1.000000</td>\n",
              "      <td>0.779575</td>\n",
              "      <td>0.769211</td>\n",
              "      <td>0.664868</td>\n",
              "      <td>0.954476</td>\n",
              "    </tr>\n",
              "    <tr>\n",
              "      <th>age</th>\n",
              "      <td>-0.680831</td>\n",
              "      <td>0.812950</td>\n",
              "      <td>0.779575</td>\n",
              "      <td>1.000000</td>\n",
              "      <td>0.738359</td>\n",
              "      <td>0.532060</td>\n",
              "      <td>0.859790</td>\n",
              "    </tr>\n",
              "    <tr>\n",
              "      <th>race</th>\n",
              "      <td>-0.603893</td>\n",
              "      <td>0.766796</td>\n",
              "      <td>0.769211</td>\n",
              "      <td>0.738359</td>\n",
              "      <td>1.000000</td>\n",
              "      <td>0.388955</td>\n",
              "      <td>0.842938</td>\n",
              "    </tr>\n",
              "    <tr>\n",
              "      <th>income</th>\n",
              "      <td>-0.478022</td>\n",
              "      <td>0.676960</td>\n",
              "      <td>0.664868</td>\n",
              "      <td>0.532060</td>\n",
              "      <td>0.388955</td>\n",
              "      <td>1.000000</td>\n",
              "      <td>0.635920</td>\n",
              "    </tr>\n",
              "    <tr>\n",
              "      <th>year</th>\n",
              "      <td>-0.823630</td>\n",
              "      <td>0.977415</td>\n",
              "      <td>0.954476</td>\n",
              "      <td>0.859790</td>\n",
              "      <td>0.842938</td>\n",
              "      <td>0.635920</td>\n",
              "      <td>1.000000</td>\n",
              "    </tr>\n",
              "  </tbody>\n",
              "</table>\n",
              "</div>"
            ],
            "text/plain": [
              "              confinan_pct    ba_pct   mba_pct       age      race    income  \\\n",
              "confinan_pct      1.000000 -0.840768 -0.769148 -0.680831 -0.603893 -0.478022   \n",
              "ba_pct           -0.840768  1.000000  0.953986  0.812950  0.766796  0.676960   \n",
              "mba_pct          -0.769148  0.953986  1.000000  0.779575  0.769211  0.664868   \n",
              "age              -0.680831  0.812950  0.779575  1.000000  0.738359  0.532060   \n",
              "race             -0.603893  0.766796  0.769211  0.738359  1.000000  0.388955   \n",
              "income           -0.478022  0.676960  0.664868  0.532060  0.388955  1.000000   \n",
              "year             -0.823630  0.977415  0.954476  0.859790  0.842938  0.635920   \n",
              "\n",
              "                  year  \n",
              "confinan_pct -0.823630  \n",
              "ba_pct        0.977415  \n",
              "mba_pct       0.954476  \n",
              "age           0.859790  \n",
              "race          0.842938  \n",
              "income        0.635920  \n",
              "year          1.000000  "
            ]
          },
          "execution_count": 9,
          "metadata": {},
          "output_type": "execute_result"
        }
      ],
      "source": [
        "corr_vars = ['confinan_pct', 'ba_pct', 'mba_pct', 'age','race', 'income', 'year']\n",
        "by_year_ts[corr_vars].corr()"
      ]
    },
    {
      "cell_type": "code",
      "execution_count": 10,
      "id": "9b153fd7-f843-4afe-92ff-fa8ea07d1152",
      "metadata": {},
      "outputs": [
        {
          "data": {
            "text/plain": [
              "<AxesSubplot:>"
            ]
          },
          "execution_count": 10,
          "metadata": {},
          "output_type": "execute_result"
        },
        {
          "data": {
            "image/png": "[encoded data removed]",
            "text/plain": [
              "<Figure size 432x288 with 2 Axes>"
            ]
          },
          "metadata": {
            "needs_background": "light"
          },
          "output_type": "display_data"
        }
      ],
      "source": [
        "sns.heatmap(by_year_ts[corr_vars].corr())"
      ]
    },
    {
      "cell_type": "code",
      "execution_count": 11,
      "id": "11bda074-95c8-458f-821c-9d0284b74c0e",
      "metadata": {},
      "outputs": [
        {
          "data": {
            "image/png": "[encoded data removed]",
            "text/plain": [
              "<Figure size 720x720 with 4 Axes>"
            ]
          },
          "metadata": {
            "needs_background": "light"
          },
          "output_type": "display_data"
        }
      ],
      "source": [
        "fig, axes = plt.subplots(nrows=2, ncols=2, figsize=(10,10))\n",
        "\n",
        "by_year_ts['confinan_pct'].plot(title = 'Trust in Financial Institutions', color = 'g', ax = axes[0,0], grid = True)\n",
        "by_year_ts['ba_pct'].plot(title = 'Percent with BA Degrees', color = 'purple', ax = axes[0,1], grid = True)\n",
        "by_year_ts['mba_pct'].plot(title = 'Percent with mothers with BA degrees', color = 'orange', ax = axes[1,0], grid = True)\n",
        "by_year_ts['income'].plot(title = 'Income', color = 'b', ax = axes[1,1], grid = True)\n",
        "\n",
        "\n",
        "plt.show()"
      ]
    },
    {
      "cell_type": "code",
      "execution_count": 12,
      "id": "ebccf13d-60d9-4397-a47f-df818ba5de5b",
      "metadata": {},
      "outputs": [
        {
          "data": {
            "text/html": [
              "<table class=\"simpletable\">\n",
              "<caption>OLS Regression Results</caption>\n",
              "<tr>\n",
              "  <th>Dep. Variable:</th>      <td>confinan_pct</td>   <th>  R-squared:         </th> <td>   0.707</td>\n",
              "</tr>\n",
              "<tr>\n",
              "  <th>Model:</th>                   <td>OLS</td>       <th>  Adj. R-squared:    </th> <td>   0.698</td>\n",
              "</tr>\n",
              "<tr>\n",
              "  <th>Method:</th>             <td>Least Squares</td>  <th>  F-statistic:       </th> <td>   82.00</td>\n",
              "</tr>\n",
              "<tr>\n",
              "  <th>Date:</th>             <td>Sat, 10 Dec 2022</td> <th>  Prob (F-statistic):</th> <td>1.39e-10</td>\n",
              "</tr>\n",
              "<tr>\n",
              "  <th>Time:</th>                 <td>20:46:48</td>     <th>  Log-Likelihood:    </th> <td> -109.60</td>\n",
              "</tr>\n",
              "<tr>\n",
              "  <th>No. Observations:</th>      <td>    36</td>      <th>  AIC:               </th> <td>   223.2</td>\n",
              "</tr>\n",
              "<tr>\n",
              "  <th>Df Residuals:</th>          <td>    34</td>      <th>  BIC:               </th> <td>   226.4</td>\n",
              "</tr>\n",
              "<tr>\n",
              "  <th>Df Model:</th>              <td>     1</td>      <th>                     </th>     <td> </td>   \n",
              "</tr>\n",
              "<tr>\n",
              "  <th>Covariance Type:</th>      <td>nonrobust</td>    <th>                     </th>     <td> </td>   \n",
              "</tr>\n",
              "</table>\n",
              "<table class=\"simpletable\">\n",
              "<tr>\n",
              "      <td></td>         <th>coef</th>     <th>std err</th>      <th>t</th>      <th>P>|t|</th>  <th>[0.025</th>    <th>0.975]</th>  \n",
              "</tr>\n",
              "<tr>\n",
              "  <th>Intercept</th> <td>   52.4565</td> <td>    3.856</td> <td>   13.604</td> <td> 0.000</td> <td>   44.620</td> <td>   60.293</td>\n",
              "</tr>\n",
              "<tr>\n",
              "  <th>ba_pct</th>    <td>   -1.6194</td> <td>    0.179</td> <td>   -9.055</td> <td> 0.000</td> <td>   -1.983</td> <td>   -1.256</td>\n",
              "</tr>\n",
              "</table>\n",
              "<table class=\"simpletable\">\n",
              "<tr>\n",
              "  <th>Omnibus:</th>       <td> 0.563</td> <th>  Durbin-Watson:     </th> <td>   0.601</td>\n",
              "</tr>\n",
              "<tr>\n",
              "  <th>Prob(Omnibus):</th> <td> 0.755</td> <th>  Jarque-Bera (JB):  </th> <td>   0.240</td>\n",
              "</tr>\n",
              "<tr>\n",
              "  <th>Skew:</th>          <td>-0.200</td> <th>  Prob(JB):          </th> <td>   0.887</td>\n",
              "</tr>\n",
              "<tr>\n",
              "  <th>Kurtosis:</th>      <td> 3.016</td> <th>  Cond. No.          </th> <td>    95.6</td>\n",
              "</tr>\n",
              "</table><br/><br/>Notes:<br/>[1] Standard Errors assume that the covariance matrix of the errors is correctly specified."
            ],
            "text/plain": [
              "<class 'statsmodels.iolib.summary.Summary'>\n",
              "\"\"\"\n",
              "                            OLS Regression Results                            \n",
              "==============================================================================\n",
              "Dep. Variable:           confinan_pct   R-squared:                       0.707\n",
              "Model:                            OLS   Adj. R-squared:                  0.698\n",
              "Method:                 Least Squares   F-statistic:                     82.00\n",
              "Date:                Sat, 10 Dec 2022   Prob (F-statistic):           1.39e-10\n",
              "Time:                        20:46:48   Log-Likelihood:                -109.60\n",
              "No. Observations:                  36   AIC:                             223.2\n",
              "Df Residuals:                      34   BIC:                             226.4\n",
              "Df Model:                           1                                         \n",
              "Covariance Type:            nonrobust                                         \n",
              "==============================================================================\n",
              "                 coef    std err          t      P>|t|      [0.025      0.975]\n",
              "------------------------------------------------------------------------------\n",
              "Intercept     52.4565      3.856     13.604      0.000      44.620      60.293\n",
              "ba_pct        -1.6194      0.179     -9.055      0.000      -1.983      -1.256\n",
              "==============================================================================\n",
              "Omnibus:                        0.563   Durbin-Watson:                   0.601\n",
              "Prob(Omnibus):                  0.755   Jarque-Bera (JB):                0.240\n",
              "Skew:                          -0.200   Prob(JB):                        0.887\n",
              "Kurtosis:                       3.016   Cond. No.                         95.6\n",
              "==============================================================================\n",
              "\n",
              "Notes:\n",
              "[1] Standard Errors assume that the covariance matrix of the errors is correctly specified.\n",
              "\"\"\""
            ]
          },
          "execution_count": 12,
          "metadata": {},
          "output_type": "execute_result"
        }
      ],
      "source": [
        "lm_confinan = smf.ols('confinan_pct ~ ba_pct', data = by_year_ts).fit()\n",
        "lm_confinan.summary()"
      ]
    },
    {
      "cell_type": "code",
      "execution_count": 13,
      "id": "d1dc61f3-94fc-480a-b77f-627559435a8b",
      "metadata": {},
      "outputs": [
        {
          "data": {
            "text/html": [
              "<table class=\"simpletable\">\n",
              "<caption>OLS Regression Results</caption>\n",
              "<tr>\n",
              "  <th>Dep. Variable:</th>      <td>confinan_pct</td>   <th>  R-squared:         </th> <td>   0.707</td>\n",
              "</tr>\n",
              "<tr>\n",
              "  <th>Model:</th>                   <td>OLS</td>       <th>  Adj. R-squared:    </th> <td>   0.689</td>\n",
              "</tr>\n",
              "<tr>\n",
              "  <th>Method:</th>             <td>Least Squares</td>  <th>  F-statistic:       </th> <td>   39.86</td>\n",
              "</tr>\n",
              "<tr>\n",
              "  <th>Date:</th>             <td>Sat, 10 Dec 2022</td> <th>  Prob (F-statistic):</th> <td>1.58e-09</td>\n",
              "</tr>\n",
              "<tr>\n",
              "  <th>Time:</th>                 <td>20:46:48</td>     <th>  Log-Likelihood:    </th> <td> -109.58</td>\n",
              "</tr>\n",
              "<tr>\n",
              "  <th>No. Observations:</th>      <td>    36</td>      <th>  AIC:               </th> <td>   225.2</td>\n",
              "</tr>\n",
              "<tr>\n",
              "  <th>Df Residuals:</th>          <td>    33</td>      <th>  BIC:               </th> <td>   229.9</td>\n",
              "</tr>\n",
              "<tr>\n",
              "  <th>Df Model:</th>              <td>     2</td>      <th>                     </th>     <td> </td>   \n",
              "</tr>\n",
              "<tr>\n",
              "  <th>Covariance Type:</th>      <td>nonrobust</td>    <th>                     </th>     <td> </td>   \n",
              "</tr>\n",
              "</table>\n",
              "<table class=\"simpletable\">\n",
              "<tr>\n",
              "      <td></td>         <th>coef</th>     <th>std err</th>      <th>t</th>      <th>P>|t|</th>  <th>[0.025</th>    <th>0.975]</th>  \n",
              "</tr>\n",
              "<tr>\n",
              "  <th>Intercept</th> <td>  197.5976</td> <td>  730.823</td> <td>    0.270</td> <td> 0.789</td> <td>-1289.274</td> <td> 1684.469</td>\n",
              "</tr>\n",
              "<tr>\n",
              "  <th>ba_pct</th>    <td>   -1.4624</td> <td>    0.811</td> <td>   -1.804</td> <td> 0.080</td> <td>   -3.112</td> <td>    0.187</td>\n",
              "</tr>\n",
              "<tr>\n",
              "  <th>year</th>      <td>   -0.0745</td> <td>    0.375</td> <td>   -0.199</td> <td> 0.844</td> <td>   -0.838</td> <td>    0.689</td>\n",
              "</tr>\n",
              "</table>\n",
              "<table class=\"simpletable\">\n",
              "<tr>\n",
              "  <th>Omnibus:</th>       <td> 0.528</td> <th>  Durbin-Watson:     </th> <td>   0.580</td>\n",
              "</tr>\n",
              "<tr>\n",
              "  <th>Prob(Omnibus):</th> <td> 0.768</td> <th>  Jarque-Bera (JB):  </th> <td>   0.252</td>\n",
              "</tr>\n",
              "<tr>\n",
              "  <th>Skew:</th>          <td>-0.205</td> <th>  Prob(JB):          </th> <td>   0.881</td>\n",
              "</tr>\n",
              "<tr>\n",
              "  <th>Kurtosis:</th>      <td> 2.978</td> <th>  Cond. No.          </th> <td>1.65e+06</td>\n",
              "</tr>\n",
              "</table><br/><br/>Notes:<br/>[1] Standard Errors assume that the covariance matrix of the errors is correctly specified.<br/>[2] The condition number is large, 1.65e+06. This might indicate that there are<br/>strong multicollinearity or other numerical problems."
            ],
            "text/plain": [
              "<class 'statsmodels.iolib.summary.Summary'>\n",
              "\"\"\"\n",
              "                            OLS Regression Results                            \n",
              "==============================================================================\n",
              "Dep. Variable:           confinan_pct   R-squared:                       0.707\n",
              "Model:                            OLS   Adj. R-squared:                  0.689\n",
              "Method:                 Least Squares   F-statistic:                     39.86\n",
              "Date:                Sat, 10 Dec 2022   Prob (F-statistic):           1.58e-09\n",
              "Time:                        20:46:48   Log-Likelihood:                -109.58\n",
              "No. Observations:                  36   AIC:                             225.2\n",
              "Df Residuals:                      33   BIC:                             229.9\n",
              "Df Model:                           2                                         \n",
              "Covariance Type:            nonrobust                                         \n",
              "==============================================================================\n",
              "                 coef    std err          t      P>|t|      [0.025      0.975]\n",
              "------------------------------------------------------------------------------\n",
              "Intercept    197.5976    730.823      0.270      0.789   -1289.274    1684.469\n",
              "ba_pct        -1.4624      0.811     -1.804      0.080      -3.112       0.187\n",
              "year          -0.0745      0.375     -0.199      0.844      -0.838       0.689\n",
              "==============================================================================\n",
              "Omnibus:                        0.528   Durbin-Watson:                   0.580\n",
              "Prob(Omnibus):                  0.768   Jarque-Bera (JB):                0.252\n",
              "Skew:                          -0.205   Prob(JB):                        0.881\n",
              "Kurtosis:                       2.978   Cond. No.                     1.65e+06\n",
              "==============================================================================\n",
              "\n",
              "Notes:\n",
              "[1] Standard Errors assume that the covariance matrix of the errors is correctly specified.\n",
              "[2] The condition number is large, 1.65e+06. This might indicate that there are\n",
              "strong multicollinearity or other numerical problems.\n",
              "\"\"\""
            ]
          },
          "execution_count": 13,
          "metadata": {},
          "output_type": "execute_result"
        }
      ],
      "source": [
        "lm_confinan2 = smf.ols('confinan_pct ~ ba_pct + year', data = by_year_ts).fit()\n",
        "lm_confinan2.summary()"
      ]
    },
    {
      "cell_type": "code",
      "execution_count": 14,
      "id": "36ac2bb3-eebc-41bf-9fba-764259e4f1b9",
      "metadata": {},
      "outputs": [
        {
          "data": {
            "text/plain": [
              "[('BP', 3.2172303930836432),\n",
              " ('p-value', 0.2001646108831657),\n",
              " ('f-value', 1.6192744579665),\n",
              " ('f p-value', 0.21338398575201292)]"
            ]
          },
          "execution_count": 14,
          "metadata": {},
          "output_type": "execute_result"
        }
      ],
      "source": [
        "from statsmodels.compat import lzip\n",
        "name = ['BP', 'p-value', 'f-value', 'f p-value']\n",
        "\n",
        "test2 = sm.stats.diagnostic.het_breuschpagan(lm_confinan2.resid, lm_confinan2.model.exog)\n",
        "lzip(name, test2)"
      ]
    },
    {
      "cell_type": "code",
      "execution_count": 15,
      "id": "8578c5d0-d771-4071-bd64-e2ea0807c69b",
      "metadata": {},
      "outputs": [
        {
          "data": {
            "text/plain": [
              "array([ 1.        ,  0.70906792,  0.40926699,  0.2807529 ,  0.08174912,\n",
              "       -0.13815214, -0.13615833, -0.05975335, -0.09371649, -0.05285333,\n",
              "        0.02522436, -0.06275414, -0.2445408 , -0.28610065, -0.38523212,\n",
              "       -0.45903008])"
            ]
          },
          "execution_count": 15,
          "metadata": {},
          "output_type": "execute_result"
        }
      ],
      "source": [
        "from statsmodels.tsa.stattools import acf\n",
        "\n",
        "err2 = lm_confinan2.resid\n",
        "acf(err2)"
      ]
    },
    {
      "cell_type": "code",
      "execution_count": 16,
      "id": "19738911-9316-461d-bb78-031ea33aec94",
      "metadata": {},
      "outputs": [
        {
          "name": "stderr",
          "output_type": "stream",
          "text": [
            "C:\\Users\\sande\\anaconda3\\lib\\site-packages\\statsmodels\\graphics\\tsaplots.py:348: FutureWarning: The default method 'yw' can produce PACF values outside of the [-1,1] interval. After 0.13, the default will change tounadjusted Yule-Walker ('ywm'). You can use this method now by setting method='ywm'.\n",
            "  warnings.warn(\n"
          ]
        },
        {
          "data": {
            "image/png": "[encoded data removed]",
            "text/plain": [
              "<Figure size 576x576 with 2 Axes>"
            ]
          },
          "metadata": {
            "needs_background": "light"
          },
          "output_type": "display_data"
        }
      ],
      "source": [
        "from statsmodels.graphics.tsaplots import plot_acf, plot_pacf\n",
        "\n",
        "fig, ax = plt.subplots(2, 1, figsize=(8, 8))\n",
        "plot_acf(err2, lags = 8, zero = False, ax=ax[0]);\n",
        "plot_pacf(err2, lags = 8, zero = False, ax=ax[1]);\n",
        "plt.show()"
      ]
    },
    {
      "cell_type": "code",
      "execution_count": 17,
      "id": "89e6b614-00be-4bdd-9967-acbf44df5f30",
      "metadata": {},
      "outputs": [
        {
          "name": "stdout",
          "output_type": "stream",
          "text": [
            "Durbin Watson statistic: 0.5801840620930963\n",
            "LM test = 22.2386171492112\n",
            "p-value = 2.4078197219514623e-06\n"
          ]
        }
      ],
      "source": [
        "from statsmodels.stats.stattools import durbin_watson\n",
        "from statsmodels.stats.diagnostic import acorr_breusch_godfrey\n",
        "\n",
        "print('Durbin Watson statistic:', durbin_watson(err2))\n",
        "\n",
        "lmtest2, pval2, fval2, f_pval2 = acorr_breusch_godfrey(lm_confinan2, nlags = 1)\n",
        "print('LM test =', lmtest2)\n",
        "print('p-value =', pval2)"
      ]
    },
    {
      "cell_type": "code",
      "execution_count": 18,
      "id": "923cc2fb-a7d9-4d2a-a8e0-ba3232df3851",
      "metadata": {},
      "outputs": [
        {
          "name": "stderr",
          "output_type": "stream",
          "text": [
            "Unable to determine R home: [WinError 2] The system cannot find the file specified\n",
            "C:\\Users\\sande\\anaconda3\\lib\\site-packages\\rpy2\\robjects\\packages.py:367: UserWarning: The symbol 'quartz' is not in this R namespace/package.\n",
            "  warnings.warn(\n"
          ]
        }
      ],
      "source": [
        "from rpy2.robjects.packages import importr\n",
        "\n",
        "car = importr('car')\n",
        "stats = importr('stats')\n",
        "\n",
        "%load_ext rpy2.ipython"
      ]
    },
    {
      "cell_type": "code",
      "execution_count": 19,
      "id": "0bc6d9c9-e431-4e5b-9385-cdaf5ecca90b",
      "metadata": {},
      "outputs": [
        {
          "name": "stdout",
          "output_type": "stream",
          "text": [
            " lag Autocorrelation D-W Statistic p-value\n",
            "   1      0.70906792     0.5801841   0.000\n",
            "   2      0.40926699     1.0747301   0.004\n",
            "   3      0.28075290     1.1565035   0.016\n",
            "   4      0.08174912     1.5295757   0.324\n",
            "   5     -0.13815214     1.9459934   0.664\n",
            " Alternative hypothesis: rho[lag] != 0\n"
          ]
        }
      ],
      "source": [
        "%%R -i by_year_ts\n",
        "\n",
        "# refit the model using lm function from R\n",
        "lm_confinan2_r = lm(confinan_pct ~ ba_pct + year, data = by_year_ts)\n",
        "\n",
        "# pass the model to function\n",
        "durbinWatsonTest(lm_confinan2_r, max.lag = 5)"
      ]
    },
    {
      "cell_type": "code",
      "execution_count": 20,
      "id": "dfdfcc98-85ac-4193-825d-3ef103f5529b",
      "metadata": {},
      "outputs": [
        {
          "data": {
            "text/html": [
              "<table class=\"simpletable\">\n",
              "<caption>OLS Regression Results</caption>\n",
              "<tr>\n",
              "  <th>Dep. Variable:</th>      <td>confinan_pct</td>   <th>  R-squared:         </th> <td>   0.718</td>\n",
              "</tr>\n",
              "<tr>\n",
              "  <th>Model:</th>                   <td>OLS</td>       <th>  Adj. R-squared:    </th> <td>   0.681</td>\n",
              "</tr>\n",
              "<tr>\n",
              "  <th>Method:</th>             <td>Least Squares</td>  <th>  F-statistic:       </th> <td>   19.69</td>\n",
              "</tr>\n",
              "<tr>\n",
              "  <th>Date:</th>             <td>Sat, 10 Dec 2022</td> <th>  Prob (F-statistic):</th> <td>3.74e-08</td>\n",
              "</tr>\n",
              "<tr>\n",
              "  <th>Time:</th>                 <td>20:46:51</td>     <th>  Log-Likelihood:    </th> <td> -108.93</td>\n",
              "</tr>\n",
              "<tr>\n",
              "  <th>No. Observations:</th>      <td>    36</td>      <th>  AIC:               </th> <td>   227.9</td>\n",
              "</tr>\n",
              "<tr>\n",
              "  <th>Df Residuals:</th>          <td>    31</td>      <th>  BIC:               </th> <td>   235.8</td>\n",
              "</tr>\n",
              "<tr>\n",
              "  <th>Df Model:</th>              <td>     4</td>      <th>                     </th>     <td> </td>   \n",
              "</tr>\n",
              "<tr>\n",
              "  <th>Covariance Type:</th>      <td>nonrobust</td>    <th>                     </th>     <td> </td>   \n",
              "</tr>\n",
              "</table>\n",
              "<table class=\"simpletable\">\n",
              "<tr>\n",
              "      <td></td>         <th>coef</th>     <th>std err</th>      <th>t</th>      <th>P>|t|</th>  <th>[0.025</th>    <th>0.975]</th>  \n",
              "</tr>\n",
              "<tr>\n",
              "  <th>Intercept</th> <td>  668.4054</td> <td>  943.168</td> <td>    0.709</td> <td> 0.484</td> <td>-1255.198</td> <td> 2592.009</td>\n",
              "</tr>\n",
              "<tr>\n",
              "  <th>age</th>       <td>    0.6945</td> <td>    1.833</td> <td>    0.379</td> <td> 0.707</td> <td>   -3.045</td> <td>    4.434</td>\n",
              "</tr>\n",
              "<tr>\n",
              "  <th>ba_pct</th>    <td>   -1.6780</td> <td>    0.883</td> <td>   -1.899</td> <td> 0.067</td> <td>   -3.480</td> <td>    0.124</td>\n",
              "</tr>\n",
              "<tr>\n",
              "  <th>mba_pct</th>   <td>    1.0780</td> <td>    1.017</td> <td>    1.061</td> <td> 0.297</td> <td>   -0.995</td> <td>    3.151</td>\n",
              "</tr>\n",
              "<tr>\n",
              "  <th>year</th>      <td>   -0.3289</td> <td>    0.506</td> <td>   -0.650</td> <td> 0.520</td> <td>   -1.361</td> <td>    0.703</td>\n",
              "</tr>\n",
              "</table>\n",
              "<table class=\"simpletable\">\n",
              "<tr>\n",
              "  <th>Omnibus:</th>       <td> 0.160</td> <th>  Durbin-Watson:     </th> <td>   0.599</td>\n",
              "</tr>\n",
              "<tr>\n",
              "  <th>Prob(Omnibus):</th> <td> 0.923</td> <th>  Jarque-Bera (JB):  </th> <td>   0.153</td>\n",
              "</tr>\n",
              "<tr>\n",
              "  <th>Skew:</th>          <td>-0.128</td> <th>  Prob(JB):          </th> <td>   0.926</td>\n",
              "</tr>\n",
              "<tr>\n",
              "  <th>Kurtosis:</th>      <td> 2.808</td> <th>  Cond. No.          </th> <td>2.10e+06</td>\n",
              "</tr>\n",
              "</table><br/><br/>Notes:<br/>[1] Standard Errors assume that the covariance matrix of the errors is correctly specified.<br/>[2] The condition number is large, 2.1e+06. This might indicate that there are<br/>strong multicollinearity or other numerical problems."
            ],
            "text/plain": [
              "<class 'statsmodels.iolib.summary.Summary'>\n",
              "\"\"\"\n",
              "                            OLS Regression Results                            \n",
              "==============================================================================\n",
              "Dep. Variable:           confinan_pct   R-squared:                       0.718\n",
              "Model:                            OLS   Adj. R-squared:                  0.681\n",
              "Method:                 Least Squares   F-statistic:                     19.69\n",
              "Date:                Sat, 10 Dec 2022   Prob (F-statistic):           3.74e-08\n",
              "Time:                        20:46:51   Log-Likelihood:                -108.93\n",
              "No. Observations:                  36   AIC:                             227.9\n",
              "Df Residuals:                      31   BIC:                             235.8\n",
              "Df Model:                           4                                         \n",
              "Covariance Type:            nonrobust                                         \n",
              "==============================================================================\n",
              "                 coef    std err          t      P>|t|      [0.025      0.975]\n",
              "------------------------------------------------------------------------------\n",
              "Intercept    668.4054    943.168      0.709      0.484   -1255.198    2592.009\n",
              "age            0.6945      1.833      0.379      0.707      -3.045       4.434\n",
              "ba_pct        -1.6780      0.883     -1.899      0.067      -3.480       0.124\n",
              "mba_pct        1.0780      1.017      1.061      0.297      -0.995       3.151\n",
              "year          -0.3289      0.506     -0.650      0.520      -1.361       0.703\n",
              "==============================================================================\n",
              "Omnibus:                        0.160   Durbin-Watson:                   0.599\n",
              "Prob(Omnibus):                  0.923   Jarque-Bera (JB):                0.153\n",
              "Skew:                          -0.128   Prob(JB):                        0.926\n",
              "Kurtosis:                       2.808   Cond. No.                     2.10e+06\n",
              "==============================================================================\n",
              "\n",
              "Notes:\n",
              "[1] Standard Errors assume that the covariance matrix of the errors is correctly specified.\n",
              "[2] The condition number is large, 2.1e+06. This might indicate that there are\n",
              "strong multicollinearity or other numerical problems.\n",
              "\"\"\""
            ]
          },
          "execution_count": 20,
          "metadata": {},
          "output_type": "execute_result"
        }
      ],
      "source": [
        "lm_confinan3 = smf.ols('confinan_pct ~ age + ba_pct + mba_pct + year', data = by_year_ts).fit()\n",
        "lm_confinan3.summary()"
      ]
    },
    {
      "cell_type": "code",
      "execution_count": 21,
      "id": "9b456d04-f27a-4e59-ab57-b9eaad9f139d",
      "metadata": {},
      "outputs": [
        {
          "data": {
            "text/html": [
              "<div>\n",
              "<style scoped>\n",
              "    .dataframe tbody tr th:only-of-type {\n",
              "        vertical-align: middle;\n",
              "    }\n",
              "\n",
              "    .dataframe tbody tr th {\n",
              "        vertical-align: top;\n",
              "    }\n",
              "\n",
              "    .dataframe thead th {\n",
              "        text-align: right;\n",
              "    }\n",
              "</style>\n",
              "<table border=\"1\" class=\"dataframe\">\n",
              "  <thead>\n",
              "    <tr style=\"text-align: right;\">\n",
              "      <th></th>\n",
              "      <th>VIR Factor</th>\n",
              "      <th>features</th>\n",
              "    </tr>\n",
              "  </thead>\n",
              "  <tbody>\n",
              "    <tr>\n",
              "      <th>1</th>\n",
              "      <td>4.495530</td>\n",
              "      <td>age</td>\n",
              "    </tr>\n",
              "    <tr>\n",
              "      <th>2</th>\n",
              "      <td>23.096550</td>\n",
              "      <td>ba_pct</td>\n",
              "    </tr>\n",
              "    <tr>\n",
              "      <th>3</th>\n",
              "      <td>11.731486</td>\n",
              "      <td>mba_pct</td>\n",
              "    </tr>\n",
              "    <tr>\n",
              "      <th>4</th>\n",
              "      <td>35.362278</td>\n",
              "      <td>year</td>\n",
              "    </tr>\n",
              "  </tbody>\n",
              "</table>\n",
              "</div>"
            ],
            "text/plain": [
              "   VIR Factor features\n",
              "1    4.495530      age\n",
              "2   23.096550   ba_pct\n",
              "3   11.731486  mba_pct\n",
              "4   35.362278     year"
            ]
          },
          "execution_count": 21,
          "metadata": {},
          "output_type": "execute_result"
        }
      ],
      "source": [
        "from patsy import dmatrices\n",
        "from statsmodels.stats.outliers_influence import variance_inflation_factor\n",
        "\n",
        "y, X = dmatrices('confinan_pct ~ age + ba_pct + mba_pct + year',\n",
        "                 data = by_year_ts, return_type = 'dataframe')\n",
        "\n",
        "vif = pd.DataFrame()\n",
        "vif['VIR Factor'] = [variance_inflation_factor(X.values, i) for i in range(X.shape[1])]\n",
        "vif['features'] = X.columns\n",
        "vif.iloc[1:]"
      ]
    },
    {
      "cell_type": "code",
      "execution_count": 22,
      "id": "d08189b1-8e29-4520-931a-644d0587885b",
      "metadata": {},
      "outputs": [],
      "source": [
        "by_yearFD = pd.DataFrame()\n",
        "\n",
        "by_yearFD = by_year_ts[['confinan_pct', 'age', 'ba_pct', 'mba_pct']]\n",
        "by_yearFD = by_yearFD.diff()\n",
        "\n",
        "by_yearFD['year'] = by_year_ts['year']"
      ]
    },
    {
      "cell_type": "code",
      "execution_count": 23,
      "id": "a0829d03-a2ea-4b86-94d4-89a43182cbb1",
      "metadata": {},
      "outputs": [
        {
          "data": {
            "text/html": [
              "<table class=\"simpletable\">\n",
              "<caption>OLS Regression Results</caption>\n",
              "<tr>\n",
              "  <th>Dep. Variable:</th>      <td>confinan_pct</td>   <th>  R-squared:         </th> <td>   0.004</td>\n",
              "</tr>\n",
              "<tr>\n",
              "  <th>Model:</th>                   <td>OLS</td>       <th>  Adj. R-squared:    </th> <td>  -0.059</td>\n",
              "</tr>\n",
              "<tr>\n",
              "  <th>Method:</th>             <td>Least Squares</td>  <th>  F-statistic:       </th> <td> 0.05837</td>\n",
              "</tr>\n",
              "<tr>\n",
              "  <th>Date:</th>             <td>Sat, 10 Dec 2022</td> <th>  Prob (F-statistic):</th>  <td> 0.943</td> \n",
              "</tr>\n",
              "<tr>\n",
              "  <th>Time:</th>                 <td>20:46:51</td>     <th>  Log-Likelihood:    </th> <td> -94.860</td>\n",
              "</tr>\n",
              "<tr>\n",
              "  <th>No. Observations:</th>      <td>    35</td>      <th>  AIC:               </th> <td>   195.7</td>\n",
              "</tr>\n",
              "<tr>\n",
              "  <th>Df Residuals:</th>          <td>    32</td>      <th>  BIC:               </th> <td>   200.4</td>\n",
              "</tr>\n",
              "<tr>\n",
              "  <th>Df Model:</th>              <td>     2</td>      <th>                     </th>     <td> </td>   \n",
              "</tr>\n",
              "<tr>\n",
              "  <th>Covariance Type:</th>      <td>nonrobust</td>    <th>                     </th>     <td> </td>   \n",
              "</tr>\n",
              "</table>\n",
              "<table class=\"simpletable\">\n",
              "<tr>\n",
              "      <td></td>         <th>coef</th>     <th>std err</th>      <th>t</th>      <th>P>|t|</th>  <th>[0.025</th>    <th>0.975]</th>  \n",
              "</tr>\n",
              "<tr>\n",
              "  <th>Intercept</th> <td>  -22.3213</td> <td>  125.214</td> <td>   -0.178</td> <td> 0.860</td> <td> -277.374</td> <td>  232.732</td>\n",
              "</tr>\n",
              "<tr>\n",
              "  <th>ba_pct</th>    <td>   -0.1626</td> <td>    0.567</td> <td>   -0.287</td> <td> 0.776</td> <td>   -1.318</td> <td>    0.993</td>\n",
              "</tr>\n",
              "<tr>\n",
              "  <th>year</th>      <td>    0.0109</td> <td>    0.063</td> <td>    0.173</td> <td> 0.864</td> <td>   -0.117</td> <td>    0.139</td>\n",
              "</tr>\n",
              "</table>\n",
              "<table class=\"simpletable\">\n",
              "<tr>\n",
              "  <th>Omnibus:</th>       <td> 2.434</td> <th>  Durbin-Watson:     </th> <td>   1.666</td>\n",
              "</tr>\n",
              "<tr>\n",
              "  <th>Prob(Omnibus):</th> <td> 0.296</td> <th>  Jarque-Bera (JB):  </th> <td>   1.346</td>\n",
              "</tr>\n",
              "<tr>\n",
              "  <th>Skew:</th>          <td>-0.422</td> <th>  Prob(JB):          </th> <td>   0.510</td>\n",
              "</tr>\n",
              "<tr>\n",
              "  <th>Kurtosis:</th>      <td> 3.460</td> <th>  Cond. No.          </th> <td>3.88e+05</td>\n",
              "</tr>\n",
              "</table><br/><br/>Notes:<br/>[1] Standard Errors assume that the covariance matrix of the errors is correctly specified.<br/>[2] The condition number is large, 3.88e+05. This might indicate that there are<br/>strong multicollinearity or other numerical problems."
            ],
            "text/plain": [
              "<class 'statsmodels.iolib.summary.Summary'>\n",
              "\"\"\"\n",
              "                            OLS Regression Results                            \n",
              "==============================================================================\n",
              "Dep. Variable:           confinan_pct   R-squared:                       0.004\n",
              "Model:                            OLS   Adj. R-squared:                 -0.059\n",
              "Method:                 Least Squares   F-statistic:                   0.05837\n",
              "Date:                Sat, 10 Dec 2022   Prob (F-statistic):              0.943\n",
              "Time:                        20:46:51   Log-Likelihood:                -94.860\n",
              "No. Observations:                  35   AIC:                             195.7\n",
              "Df Residuals:                      32   BIC:                             200.4\n",
              "Df Model:                           2                                         \n",
              "Covariance Type:            nonrobust                                         \n",
              "==============================================================================\n",
              "                 coef    std err          t      P>|t|      [0.025      0.975]\n",
              "------------------------------------------------------------------------------\n",
              "Intercept    -22.3213    125.214     -0.178      0.860    -277.374     232.732\n",
              "ba_pct        -0.1626      0.567     -0.287      0.776      -1.318       0.993\n",
              "year           0.0109      0.063      0.173      0.864      -0.117       0.139\n",
              "==============================================================================\n",
              "Omnibus:                        2.434   Durbin-Watson:                   1.666\n",
              "Prob(Omnibus):                  0.296   Jarque-Bera (JB):                1.346\n",
              "Skew:                          -0.422   Prob(JB):                        0.510\n",
              "Kurtosis:                       3.460   Cond. No.                     3.88e+05\n",
              "==============================================================================\n",
              "\n",
              "Notes:\n",
              "[1] Standard Errors assume that the covariance matrix of the errors is correctly specified.\n",
              "[2] The condition number is large, 3.88e+05. This might indicate that there are\n",
              "strong multicollinearity or other numerical problems.\n",
              "\"\"\""
            ]
          },
          "execution_count": 23,
          "metadata": {},
          "output_type": "execute_result"
        }
      ],
      "source": [
        "lm_confinan4 = smf.ols('confinan_pct ~ ba_pct + year', data = by_yearFD).fit()\n",
        "lm_confinan4.summary()"
      ]
    },
    {
      "cell_type": "code",
      "execution_count": 24,
      "id": "1671f8ec-a7f0-49aa-8db1-2d49dcfb060c",
      "metadata": {},
      "outputs": [
        {
          "data": {
            "text/html": [
              "<table class=\"simpletable\">\n",
              "<caption>Augmented Dickey-Fuller Results</caption>\n",
              "<tr>\n",
              "  <td>Test Statistic</td>    <td>-1.794</td>\n",
              "</tr>\n",
              "<tr>\n",
              "  <td>P-value</td>            <td>0.384</td>\n",
              "</tr>\n",
              "<tr>\n",
              "  <td>Lags</td>                   <td>3</td>\n",
              "</tr>\n",
              "</table><br/><br/>Trend: Constant<br/>Critical Values: -3.65 (1%), -2.96 (5%), -2.62 (10%)<br/>Null Hypothesis: The process contains a unit root.<br/>Alternative Hypothesis: The process is weakly stationary."
            ],
            "text/plain": [
              "<class 'arch.unitroot.unitroot.ADF'>\n",
              "\"\"\"\n",
              "   Augmented Dickey-Fuller Results   \n",
              "=====================================\n",
              "Test Statistic                 -1.794\n",
              "P-value                         0.384\n",
              "Lags                                3\n",
              "-------------------------------------\n",
              "\n",
              "Trend: Constant\n",
              "Critical Values: -3.65 (1%), -2.96 (5%), -2.62 (10%)\n",
              "Null Hypothesis: The process contains a unit root.\n",
              "Alternative Hypothesis: The process is weakly stationary.\n",
              "\"\"\""
            ]
          },
          "execution_count": 24,
          "metadata": {},
          "output_type": "execute_result"
        }
      ],
      "source": [
        "from arch.unitroot import ADF, PhillipsPerron, DFGLS\n",
        "by_year_ts = by_year_ts.dropna()\n",
        "ADF(by_year_ts['confinan_pct'], lags = int(4*(len(by_year_ts)/100)**(2/9)), trend = 'c')"
      ]
    },
    {
      "cell_type": "code",
      "execution_count": 25,
      "id": "b37f14bb-e22e-46df-91b0-4dddef003efa",
      "metadata": {},
      "outputs": [
        {
          "data": {
            "text/html": [
              "<table class=\"simpletable\">\n",
              "<caption>Dickey-Fuller GLS Results</caption>\n",
              "<tr>\n",
              "  <td>Test Statistic</td>    <td>-0.831</td>\n",
              "</tr>\n",
              "<tr>\n",
              "  <td>P-value</td>            <td>0.365</td>\n",
              "</tr>\n",
              "<tr>\n",
              "  <td>Lags</td>                   <td>3</td>\n",
              "</tr>\n",
              "</table><br/><br/>Trend: Constant<br/>Critical Values: -3.09 (1%), -2.44 (5%), -2.13 (10%)<br/>Null Hypothesis: The process contains a unit root.<br/>Alternative Hypothesis: The process is weakly stationary."
            ],
            "text/plain": [
              "<class 'arch.unitroot.unitroot.DFGLS'>\n",
              "\"\"\"\n",
              "      Dickey-Fuller GLS Results      \n",
              "=====================================\n",
              "Test Statistic                 -0.831\n",
              "P-value                         0.365\n",
              "Lags                                3\n",
              "-------------------------------------\n",
              "\n",
              "Trend: Constant\n",
              "Critical Values: -3.09 (1%), -2.44 (5%), -2.13 (10%)\n",
              "Null Hypothesis: The process contains a unit root.\n",
              "Alternative Hypothesis: The process is weakly stationary.\n",
              "\"\"\""
            ]
          },
          "execution_count": 25,
          "metadata": {},
          "output_type": "execute_result"
        }
      ],
      "source": [
        "DFGLS(by_year_ts['confinan_pct'], lags = int(4*(len(by_year_ts)/100)**(2/9)), trend = 'c')"
      ]
    },
    {
      "cell_type": "code",
      "execution_count": 26,
      "id": "342cde5b-08ac-4495-9029-66b6e2696689",
      "metadata": {},
      "outputs": [
        {
          "data": {
            "text/html": [
              "<table class=\"simpletable\">\n",
              "<caption>Phillips-Perron Test (Z-tau)</caption>\n",
              "<tr>\n",
              "  <td>Test Statistic</td>    <td>-1.283</td>\n",
              "</tr>\n",
              "<tr>\n",
              "  <td>P-value</td>            <td>0.637</td>\n",
              "</tr>\n",
              "<tr>\n",
              "  <td>Lags</td>                   <td>3</td>\n",
              "</tr>\n",
              "</table><br/><br/>Trend: Constant<br/>Critical Values: -3.63 (1%), -2.95 (5%), -2.61 (10%)<br/>Null Hypothesis: The process contains a unit root.<br/>Alternative Hypothesis: The process is weakly stationary."
            ],
            "text/plain": [
              "<class 'arch.unitroot.unitroot.PhillipsPerron'>\n",
              "\"\"\"\n",
              "     Phillips-Perron Test (Z-tau)    \n",
              "=====================================\n",
              "Test Statistic                 -1.283\n",
              "P-value                         0.637\n",
              "Lags                                3\n",
              "-------------------------------------\n",
              "\n",
              "Trend: Constant\n",
              "Critical Values: -3.63 (1%), -2.95 (5%), -2.61 (10%)\n",
              "Null Hypothesis: The process contains a unit root.\n",
              "Alternative Hypothesis: The process is weakly stationary.\n",
              "\"\"\""
            ]
          },
          "execution_count": 26,
          "metadata": {},
          "output_type": "execute_result"
        }
      ],
      "source": [
        "PhillipsPerron(by_year_ts['confinan_pct'], lags = 3)"
      ]
    },
    {
      "cell_type": "code",
      "execution_count": 27,
      "id": "2e663939-6aab-4d2d-ab2a-671cab93ce3c",
      "metadata": {},
      "outputs": [
        {
          "name": "stdout",
          "output_type": "stream",
          "text": [
            "Requirement already satisfied: pmdarima in c:\\users\\sande\\anaconda3\\lib\\site-packages (2.0.2)\n",
            "Requirement already satisfied: Cython!=0.29.18,!=0.29.31,>=0.29 in c:\\users\\sande\\anaconda3\\lib\\site-packages (from pmdarima) (0.29.28)\n",
            "Requirement already satisfied: setuptools!=50.0.0,>=38.6.0 in c:\\users\\sande\\anaconda3\\lib\\site-packages (from pmdarima) (61.2.0)\n",
            "Requirement already satisfied: pandas>=0.19 in c:\\users\\sande\\anaconda3\\lib\\site-packages (from pmdarima) (1.4.2)\n",
            "Requirement already satisfied: scikit-learn>=0.22 in c:\\users\\sande\\anaconda3\\lib\\site-packages (from pmdarima) (1.0.2)\n",
            "Requirement already satisfied: joblib>=0.11 in c:\\users\\sande\\appdata\\roaming\\python\\python39\\site-packages (from pmdarima) (1.2.0)\n",
            "Requirement already satisfied: urllib3 in c:\\users\\sande\\anaconda3\\lib\\site-packages (from pmdarima) (1.26.9)\n",
            "Requirement already satisfied: scipy>=1.3.2 in c:\\users\\sande\\anaconda3\\lib\\site-packages (from pmdarima) (1.7.3)\n",
            "Requirement already satisfied: statsmodels>=0.13.2 in c:\\users\\sande\\anaconda3\\lib\\site-packages (from pmdarima) (0.13.2)\n",
            "Requirement already satisfied: numpy>=1.21.2 in c:\\users\\sande\\anaconda3\\lib\\site-packages (from pmdarima) (1.21.5)\n",
            "Requirement already satisfied: pytz>=2020.1 in c:\\users\\sande\\anaconda3\\lib\\site-packages (from pandas>=0.19->pmdarima) (2021.3)\n",
            "Requirement already satisfied: python-dateutil>=2.8.1 in c:\\users\\sande\\anaconda3\\lib\\site-packages (from pandas>=0.19->pmdarima) (2.8.2)\n",
            "Requirement already satisfied: six>=1.5 in c:\\users\\sande\\anaconda3\\lib\\site-packages (from python-dateutil>=2.8.1->pandas>=0.19->pmdarima) (1.16.0)\n",
            "Requirement already satisfied: threadpoolctl>=2.0.0 in c:\\users\\sande\\anaconda3\\lib\\site-packages (from scikit-learn>=0.22->pmdarima) (2.2.0)\n",
            "Requirement already satisfied: patsy>=0.5.2 in c:\\users\\sande\\anaconda3\\lib\\site-packages (from statsmodels>=0.13.2->pmdarima) (0.5.2)\n",
            "Requirement already satisfied: packaging>=21.3 in c:\\users\\sande\\anaconda3\\lib\\site-packages (from statsmodels>=0.13.2->pmdarima) (21.3)\n",
            "Requirement already satisfied: pyparsing!=3.0.5,>=2.0.2 in c:\\users\\sande\\anaconda3\\lib\\site-packages (from packaging>=21.3->statsmodels>=0.13.2->pmdarima) (3.0.4)\n"
          ]
        }
      ],
      "source": [
        "!pip install pmdarima"
      ]
    },
    {
      "cell_type": "code",
      "execution_count": 61,
      "id": "69b102af-0ca3-4369-9da5-392a64b48b4a",
      "metadata": {},
      "outputs": [
        {
          "name": "stdout",
          "output_type": "stream",
          "text": [
            "Performing stepwise search to minimize bic\n",
            " ARIMA(2,0,2)(0,0,0)[0] intercept   : BIC=213.263, Time=0.07 sec\n",
            " ARIMA(0,0,0)(0,0,0)[0] intercept   : BIC=226.331, Time=0.01 sec\n",
            " ARIMA(1,0,0)(0,0,0)[0] intercept   : BIC=205.373, Time=0.01 sec\n",
            " ARIMA(0,0,1)(0,0,0)[0] intercept   : BIC=207.758, Time=0.02 sec\n",
            " ARIMA(0,0,0)(0,0,0)[0]             : BIC=222.747, Time=0.01 sec\n",
            " ARIMA(2,0,0)(0,0,0)[0] intercept   : BIC=207.457, Time=0.02 sec\n",
            " ARIMA(1,0,1)(0,0,0)[0] intercept   : BIC=206.304, Time=0.02 sec\n",
            " ARIMA(2,0,1)(0,0,0)[0] intercept   : BIC=209.738, Time=0.03 sec\n",
            " ARIMA(1,0,0)(0,0,0)[0]             : BIC=201.791, Time=0.01 sec\n",
            " ARIMA(2,0,0)(0,0,0)[0]             : BIC=203.880, Time=0.01 sec\n",
            " ARIMA(1,0,1)(0,0,0)[0]             : BIC=202.721, Time=0.02 sec\n",
            " ARIMA(0,0,1)(0,0,0)[0]             : BIC=204.175, Time=0.01 sec\n",
            " ARIMA(2,0,1)(0,0,0)[0]             : BIC=206.155, Time=0.03 sec\n",
            "\n",
            "Best model:  ARIMA(1,0,0)(0,0,0)[0]          \n",
            "Total fit time: 0.284 seconds\n"
          ]
        },
        {
          "data": {
            "text/plain": [
              "ARIMA(order=(1, 0, 0), scoring_args={}, suppress_warnings=True,\n",
              "      with_intercept=False)"
            ]
          },
          "execution_count": 61,
          "metadata": {},
          "output_type": "execute_result"
        }
      ],
      "source": [
        "from pmdarima.arima import auto_arima\n",
        "import warnings\n",
        "warnings.filterwarnings(\"ignore\")\n",
        "\n",
        "auto_arima(err2, trace = True, test='kpss', information_criterion='bic')"
      ]
    },
    {
      "cell_type": "code",
      "execution_count": 63,
      "id": "c05c9f85-9b71-4e65-99d4-e47114dfa75d",
      "metadata": {},
      "outputs": [],
      "source": [
        "from statsmodels.tsa.arima_model import ARIMA\n",
        "from statsmodels.tsa.statespace.sarimax import SARIMAX\n",
        "\n",
        "by_year_ts['intercept'] = 1\n",
        "arima_confinan = SARIMAX(endog = by_year_ts['confinan_pct'], order = (1, 0, 0), exog = by_year_ts[['ba_pct', 'year', 'intercept']]).fit(trend = 'nc')"
      ]
    },
    {
      "cell_type": "code",
      "execution_count": 59,
      "id": "def3d6a9-abfb-46bb-855c-24cb7c2d97e8",
      "metadata": {},
      "outputs": [
        {
          "data": {
            "text/html": [
              "<table class=\"simpletable\">\n",
              "<caption>SARIMAX Results</caption>\n",
              "<tr>\n",
              "  <th>Dep. Variable:</th>     <td>confinan_pct</td>   <th>  No. Observations:  </th>   <td>36</td>   \n",
              "</tr>\n",
              "<tr>\n",
              "  <th>Model:</th>           <td>SARIMAX(1, 0, 0)</td> <th>  Log Likelihood     </th> <td>-96.697</td>\n",
              "</tr>\n",
              "<tr>\n",
              "  <th>Date:</th>            <td>Sun, 11 Dec 2022</td> <th>  AIC                </th> <td>203.393</td>\n",
              "</tr>\n",
              "<tr>\n",
              "  <th>Time:</th>                <td>00:24:20</td>     <th>  BIC                </th> <td>211.311</td>\n",
              "</tr>\n",
              "<tr>\n",
              "  <th>Sample:</th>                  <td>0</td>        <th>  HQIC               </th> <td>206.157</td>\n",
              "</tr>\n",
              "<tr>\n",
              "  <th></th>                       <td> - 36</td>      <th>                     </th>    <td> </td>   \n",
              "</tr>\n",
              "<tr>\n",
              "  <th>Covariance Type:</th>        <td>opg</td>       <th>                     </th>    <td> </td>   \n",
              "</tr>\n",
              "</table>\n",
              "<table class=\"simpletable\">\n",
              "<tr>\n",
              "      <td></td>         <th>coef</th>     <th>std err</th>      <th>z</th>      <th>P>|z|</th>  <th>[0.025</th>    <th>0.975]</th>  \n",
              "</tr>\n",
              "<tr>\n",
              "  <th>ba_pct</th>    <td>   -1.0482</td> <td>    0.823</td> <td>   -1.274</td> <td> 0.203</td> <td>   -2.661</td> <td>    0.564</td>\n",
              "</tr>\n",
              "<tr>\n",
              "  <th>year</th>      <td>   -0.0788</td> <td>    0.473</td> <td>   -0.167</td> <td> 0.868</td> <td>   -1.005</td> <td>    0.847</td>\n",
              "</tr>\n",
              "<tr>\n",
              "  <th>intercept</th> <td>  197.5998</td> <td>  927.289</td> <td>    0.213</td> <td> 0.831</td> <td>-1619.852</td> <td> 2015.052</td>\n",
              "</tr>\n",
              "<tr>\n",
              "  <th>ar.L1</th>     <td>    0.7499</td> <td>    0.109</td> <td>    6.887</td> <td> 0.000</td> <td>    0.536</td> <td>    0.963</td>\n",
              "</tr>\n",
              "<tr>\n",
              "  <th>sigma2</th>    <td>   12.3209</td> <td>    3.239</td> <td>    3.803</td> <td> 0.000</td> <td>    5.972</td> <td>   18.670</td>\n",
              "</tr>\n",
              "</table>\n",
              "<table class=\"simpletable\">\n",
              "<tr>\n",
              "  <th>Ljung-Box (L1) (Q):</th>     <td>1.28</td> <th>  Jarque-Bera (JB):  </th> <td>0.75</td>\n",
              "</tr>\n",
              "<tr>\n",
              "  <th>Prob(Q):</th>                <td>0.26</td> <th>  Prob(JB):          </th> <td>0.69</td>\n",
              "</tr>\n",
              "<tr>\n",
              "  <th>Heteroskedasticity (H):</th> <td>0.39</td> <th>  Skew:              </th> <td>0.04</td>\n",
              "</tr>\n",
              "<tr>\n",
              "  <th>Prob(H) (two-sided):</th>    <td>0.12</td> <th>  Kurtosis:          </th> <td>3.70</td>\n",
              "</tr>\n",
              "</table><br/><br/>Warnings:<br/>[1] Covariance matrix calculated using the outer product of gradients (complex-step)."
            ],
            "text/plain": [
              "<class 'statsmodels.iolib.summary.Summary'>\n",
              "\"\"\"\n",
              "                               SARIMAX Results                                \n",
              "==============================================================================\n",
              "Dep. Variable:           confinan_pct   No. Observations:                   36\n",
              "Model:               SARIMAX(1, 0, 0)   Log Likelihood                 -96.697\n",
              "Date:                Sun, 11 Dec 2022   AIC                            203.393\n",
              "Time:                        00:24:20   BIC                            211.311\n",
              "Sample:                             0   HQIC                           206.157\n",
              "                                 - 36                                         \n",
              "Covariance Type:                  opg                                         \n",
              "==============================================================================\n",
              "                 coef    std err          z      P>|z|      [0.025      0.975]\n",
              "------------------------------------------------------------------------------\n",
              "ba_pct        -1.0482      0.823     -1.274      0.203      -2.661       0.564\n",
              "year          -0.0788      0.473     -0.167      0.868      -1.005       0.847\n",
              "intercept    197.5998    927.289      0.213      0.831   -1619.852    2015.052\n",
              "ar.L1          0.7499      0.109      6.887      0.000       0.536       0.963\n",
              "sigma2        12.3209      3.239      3.803      0.000       5.972      18.670\n",
              "===================================================================================\n",
              "Ljung-Box (L1) (Q):                   1.28   Jarque-Bera (JB):                 0.75\n",
              "Prob(Q):                              0.26   Prob(JB):                         0.69\n",
              "Heteroskedasticity (H):               0.39   Skew:                             0.04\n",
              "Prob(H) (two-sided):                  0.12   Kurtosis:                         3.70\n",
              "===================================================================================\n",
              "\n",
              "Warnings:\n",
              "[1] Covariance matrix calculated using the outer product of gradients (complex-step).\n",
              "\"\"\""
            ]
          },
          "execution_count": 59,
          "metadata": {},
          "output_type": "execute_result"
        }
      ],
      "source": [
        "arima_confinan.summary()"
      ]
    },
    {
      "cell_type": "code",
      "execution_count": 60,
      "id": "efe1fc89-5c70-4f75-ab12-9e9717e9eb0b",
      "metadata": {},
      "outputs": [
        {
          "data": {
            "text/html": [
              "<div>\n",
              "<style scoped>\n",
              "    .dataframe tbody tr th:only-of-type {\n",
              "        vertical-align: middle;\n",
              "    }\n",
              "\n",
              "    .dataframe tbody tr th {\n",
              "        vertical-align: top;\n",
              "    }\n",
              "\n",
              "    .dataframe thead th {\n",
              "        text-align: right;\n",
              "    }\n",
              "</style>\n",
              "<table border=\"1\" class=\"dataframe\">\n",
              "  <thead>\n",
              "    <tr style=\"text-align: right;\">\n",
              "      <th></th>\n",
              "      <th>lb_stat</th>\n",
              "      <th>lb_pvalue</th>\n",
              "      <th>bp_stat</th>\n",
              "      <th>bp_pvalue</th>\n",
              "    </tr>\n",
              "  </thead>\n",
              "  <tbody>\n",
              "    <tr>\n",
              "      <th>1</th>\n",
              "      <td>1.612785</td>\n",
              "      <td>0.204101</td>\n",
              "      <td>1.485460</td>\n",
              "      <td>0.222922</td>\n",
              "    </tr>\n",
              "    <tr>\n",
              "      <th>2</th>\n",
              "      <td>2.448104</td>\n",
              "      <td>0.294036</td>\n",
              "      <td>2.232850</td>\n",
              "      <td>0.327448</td>\n",
              "    </tr>\n",
              "    <tr>\n",
              "      <th>3</th>\n",
              "      <td>2.623388</td>\n",
              "      <td>0.453404</td>\n",
              "      <td>2.385071</td>\n",
              "      <td>0.496420</td>\n",
              "    </tr>\n",
              "    <tr>\n",
              "      <th>4</th>\n",
              "      <td>2.630311</td>\n",
              "      <td>0.621463</td>\n",
              "      <td>2.390901</td>\n",
              "      <td>0.664272</td>\n",
              "    </tr>\n",
              "    <tr>\n",
              "      <th>5</th>\n",
              "      <td>5.992874</td>\n",
              "      <td>0.306913</td>\n",
              "      <td>5.134044</td>\n",
              "      <td>0.399741</td>\n",
              "    </tr>\n",
              "    <tr>\n",
              "      <th>6</th>\n",
              "      <td>6.844533</td>\n",
              "      <td>0.335464</td>\n",
              "      <td>5.806407</td>\n",
              "      <td>0.445222</td>\n",
              "    </tr>\n",
              "    <tr>\n",
              "      <th>7</th>\n",
              "      <td>7.284922</td>\n",
              "      <td>0.399829</td>\n",
              "      <td>6.142493</td>\n",
              "      <td>0.523213</td>\n",
              "    </tr>\n",
              "    <tr>\n",
              "      <th>8</th>\n",
              "      <td>7.486289</td>\n",
              "      <td>0.485185</td>\n",
              "      <td>6.290869</td>\n",
              "      <td>0.614686</td>\n",
              "    </tr>\n",
              "    <tr>\n",
              "      <th>9</th>\n",
              "      <td>8.037363</td>\n",
              "      <td>0.530385</td>\n",
              "      <td>6.682421</td>\n",
              "      <td>0.670145</td>\n",
              "    </tr>\n",
              "    <tr>\n",
              "      <th>10</th>\n",
              "      <td>10.529306</td>\n",
              "      <td>0.395344</td>\n",
              "      <td>8.387435</td>\n",
              "      <td>0.591049</td>\n",
              "    </tr>\n",
              "    <tr>\n",
              "      <th>11</th>\n",
              "      <td>11.475838</td>\n",
              "      <td>0.404302</td>\n",
              "      <td>9.010154</td>\n",
              "      <td>0.620955</td>\n",
              "    </tr>\n",
              "    <tr>\n",
              "      <th>12</th>\n",
              "      <td>13.439065</td>\n",
              "      <td>0.337951</td>\n",
              "      <td>10.250086</td>\n",
              "      <td>0.594031</td>\n",
              "    </tr>\n",
              "    <tr>\n",
              "      <th>13</th>\n",
              "      <td>13.440236</td>\n",
              "      <td>0.414410</td>\n",
              "      <td>10.250795</td>\n",
              "      <td>0.673309</td>\n",
              "    </tr>\n",
              "    <tr>\n",
              "      <th>14</th>\n",
              "      <td>14.590178</td>\n",
              "      <td>0.406730</td>\n",
              "      <td>10.916551</td>\n",
              "      <td>0.692579</td>\n",
              "    </tr>\n",
              "    <tr>\n",
              "      <th>15</th>\n",
              "      <td>20.442644</td>\n",
              "      <td>0.155602</td>\n",
              "      <td>14.150808</td>\n",
              "      <td>0.514124</td>\n",
              "    </tr>\n",
              "    <tr>\n",
              "      <th>16</th>\n",
              "      <td>21.400006</td>\n",
              "      <td>0.163642</td>\n",
              "      <td>14.654683</td>\n",
              "      <td>0.550060</td>\n",
              "    </tr>\n",
              "  </tbody>\n",
              "</table>\n",
              "</div>"
            ],
            "text/plain": [
              "      lb_stat  lb_pvalue    bp_stat  bp_pvalue\n",
              "1    1.612785   0.204101   1.485460   0.222922\n",
              "2    2.448104   0.294036   2.232850   0.327448\n",
              "3    2.623388   0.453404   2.385071   0.496420\n",
              "4    2.630311   0.621463   2.390901   0.664272\n",
              "5    5.992874   0.306913   5.134044   0.399741\n",
              "6    6.844533   0.335464   5.806407   0.445222\n",
              "7    7.284922   0.399829   6.142493   0.523213\n",
              "8    7.486289   0.485185   6.290869   0.614686\n",
              "9    8.037363   0.530385   6.682421   0.670145\n",
              "10  10.529306   0.395344   8.387435   0.591049\n",
              "11  11.475838   0.404302   9.010154   0.620955\n",
              "12  13.439065   0.337951  10.250086   0.594031\n",
              "13  13.440236   0.414410  10.250795   0.673309\n",
              "14  14.590178   0.406730  10.916551   0.692579\n",
              "15  20.442644   0.155602  14.150808   0.514124\n",
              "16  21.400006   0.163642  14.654683   0.550060"
            ]
          },
          "execution_count": 60,
          "metadata": {},
          "output_type": "execute_result"
        }
      ],
      "source": [
        "from statsmodels.stats.diagnostic import acorr_ljungbox\n",
        "\n",
        "acorr_ljungbox(arima_confinan.resid, boxpierce = True, lags = round((len(by_year_ts)/2-2), 0))"
      ]
    },
    {
      "cell_type": "code",
      "execution_count": null,
      "id": "5cf31d3d-bc61-498b-abb8-473d5a6cd8e0",
      "metadata": {},
      "outputs": [],
      "source": []
    },
    {
      "cell_type": "code",
      "execution_count": null,
      "id": "81f6c939-2d4a-4a0a-bb19-2b6b93f7192f",
      "metadata": {},
      "outputs": [],
      "source": []
    },
    {
      "cell_type": "code",
      "execution_count": null,
      "id": "0fab6d65-72d3-4d07-a762-cd2e266e85bd",
      "metadata": {},
      "outputs": [],
      "source": []
    }
  ],
  "metadata": {
    "kernelspec": {
      "display_name": "Python 3 (ipykernel)",
      "language": "python",
      "name": "python3"
    },
    "language_info": {
      "codemirror_mode": {
        "name": "ipython",
        "version": 3
      },
      "file_extension": ".py",
      "mimetype": "text/x-python",
      "name": "python",
      "nbconvert_exporter": "python",
      "pygments_lexer": "ipython3",
      "version": "3.9.12"
    }
  },
  "nbformat": 4,
  "nbformat_minor": 5
}